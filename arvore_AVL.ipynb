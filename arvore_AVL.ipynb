{
  "nbformat": 4,
  "nbformat_minor": 0,
  "metadata": {
    "colab": {
      "name": "arvore_AVL.ipynb",
      "version": "0.3.2",
      "provenance": [],
      "collapsed_sections": []
    },
    "kernelspec": {
      "name": "python3",
      "display_name": "Python 3"
    }
  },
  "cells": [
    {
      "metadata": {
        "id": "H4SuEWZDEeBf",
        "colab_type": "code",
        "colab": {}
      },
      "cell_type": "code",
      "source": [
        "#classe do nó da árvore AVL\n",
        "class no_AVL():\n",
        "  \n",
        "  #inicializador\n",
        "  def __init__(self, chave, pai):\n",
        "    \n",
        "    self.chave = chave\n",
        "    self.pai = pai\n",
        "    self.filho_esquerdo = None\n",
        "    self.filho_direito = None\n",
        "  \n",
        "  #Printagem do nó\n",
        "  def __str__(self):\n",
        "    return (\"\\n\").join(self.impressao()[0])\n",
        "  \n",
        "  #Responsável pela criação da lista que contém os elementos a serem impressos\n",
        "  def impressao(self):\n",
        "       \n",
        "        chave = str(self.chave)\n",
        "        \n",
        "        if (self.filho_esquerdo is None):\n",
        "            linhas_esquerdo = []\n",
        "            pos_esquerdo = 0 \n",
        "            largura_esquerdo = 0\n",
        "            \n",
        "        else:\n",
        "            linhas_esquerdo, pos_esquerdo, largura_esquerdo = self.filho_esquerdo.impressao()\n",
        "            \n",
        "        if (self.filho_direito is None):\n",
        "            linhas_direito = []\n",
        "            pos_direito = 0\n",
        "            largura_direito = 0\n",
        "            \n",
        "        else:\n",
        "            linhas_direito, pos_direito, largura_direito = self.filho_direito.impressao()\n",
        "            \n",
        "        metade = max(pos_direito + largura_esquerdo - pos_esquerdo + 1, len(chave), 2)\n",
        "        pos = pos_esquerdo + metade // 2\n",
        "        largura = pos_esquerdo + metade + largura_direito - pos_direito\n",
        "        \n",
        "        while (len(linhas_esquerdo) < len(linhas_direito)):\n",
        "            linhas_esquerdo.append(' ' * largura_esquerdo)\n",
        "            \n",
        "        while (len(linhas_direito) < len(linhas_esquerdo)):\n",
        "            linhas_direito.append(' ' * largura_direito)\n",
        "            \n",
        "        if ((metade - len(chave)) % 2 == 1) and (self.pai is not None) and (self is self.pai.filho_esquerdo) and (len(chave) < metade):\n",
        "            chave += '.'\n",
        "            \n",
        "        chave = chave.center(metade, '.')\n",
        "        \n",
        "        if (chave[0] == '.'): \n",
        "          chave = ' ' + chave[1:]\n",
        "          \n",
        "        if (chave[-1] == '.'): \n",
        "          chave = chave[:-1] + ' '\n",
        "          \n",
        "        linhas = [' ' * pos_esquerdo + chave + ' ' * (largura_direito - pos_direito),\n",
        "                 ' ' * pos_esquerdo + '/' + ' ' * (metade - 2) +\n",
        "                 '\\\\' + ' ' * (largura_direito - pos_direito)] + \\\n",
        "          [linha_esquerdo + ' ' * (largura - largura_esquerdo - largura_direito) + linha_direito\n",
        "           for linha_esquerdo, linha_direito in zip(linhas_esquerdo, linhas_direito)]\n",
        "        return linhas, pos, largura\n",
        "  \n",
        "  #responsável pela busca do nó com a chave determinada\n",
        "  def buscar(self, chave):\n",
        "    if (chave == self.chave):\n",
        "      return self\n",
        "    \n",
        "    elif (chave > self.chave):\n",
        "      if (self.filho_direito is None):\n",
        "        return None\n",
        "      \n",
        "      else:\n",
        "        return self.filho_direito.buscar(chave)\n",
        "    \n",
        "    else:\n",
        "      if (self.filho_esquerdo is None):\n",
        "        return None\n",
        "      \n",
        "      else:\n",
        "        return self.filho_esquerdo.buscar(chave)\n",
        "  \n",
        "  #responsável por buscar o nó com a maior chave\n",
        "  def buscar_maior(self):\n",
        "    atual = self\n",
        "    \n",
        "    while (atual.filho_direito is not None):\n",
        "      atual = atual.filho_direito\n",
        "    \n",
        "    return atual\n",
        "  \n",
        "  \n",
        "  #encontra o antecessor do elemento\n",
        "  def antecessor(self):\n",
        "    if (self.filho_esquerdo is not None):\n",
        "      return self.filho_esquerdo.buscar_maior()\n",
        "    \n",
        "    else:\n",
        "      atual = self\n",
        "      while(atual.pai is not None and atual is atual.pai.filho_esquerdo):\n",
        "        atual = atual.pai\n",
        "      return atual\n",
        "    \n",
        "  #responsável pela inserção de filhos no nó\n",
        "  def inserir(self, no):\n",
        "    \n",
        "    if no is None:\n",
        "      print (\"Não é possivel inserir o elemento indicado\")\n",
        "      return \n",
        "    \n",
        "    if no.chave < self.chave:\n",
        "      if self.filho_esquerdo is None:\n",
        "        self.filho_esquerdo = no\n",
        "        no.pai = self\n",
        "      \n",
        "      else:\n",
        "        self.filho_esquerdo.inserir(no)\n",
        "        \n",
        "    else:\n",
        "      if self.filho_direito is None:\n",
        "        self.filho_direito = no\n",
        "        no.pai = self\n",
        "        \n",
        "      else:  \n",
        "        self.filho_direito.inserir(no)\n",
        "  \n",
        "  #Responsável pelo Rebalanceamento\n",
        "  def remover(self):\n",
        "    \n",
        "    if (self.filho_esquerdo is None) or (self.filho_direito is None):\n",
        "      if self is self.pai.filho_esquerdo:\n",
        "        self.pai.filho_esquerdo = self.filho_esquerdo or self.filho_direito\n",
        "        if (self.pai.filho_esquerdo is not None): \n",
        "          self.pai.filho_esquerdo.pai = self.pai\n",
        "          \n",
        "      else:\n",
        "        self.pai.filho_direito = self.filho_esquerdo or self.filho_direito\n",
        "        if (self.pai.filho_direito is not None):\n",
        "          self.pai.filho_direito.pai = self.pai\n",
        "      return self\n",
        "    \n",
        "    else:\n",
        "      aux = self.antecessor()\n",
        "      self.chave, aux.chave = aux.chave, self.chave\n",
        "      return aux.remover()\n",
        "\n",
        "#operações com as alturas    \n",
        "def altura(no):\n",
        "  if no is None:\n",
        "    return -1\n",
        "  else:\n",
        "    return no.altura\n",
        "  \n",
        "def atualizar_altura(no):\n",
        "  \n",
        "  no.altura = max(altura(no.filho_direito), altura(no.filho_esquerdo)) + 1\n",
        "\n",
        "  \n",
        "#classe da árvore AVL\n",
        "class Arvore_AVL():\n",
        "  \n",
        "  #Construtor da árvore\n",
        "  def __init__(self):\n",
        "    self.raiz = None\n",
        "    \n",
        "  #Print da árvore  \n",
        "  def __str__(self):\n",
        "    if (self.raiz == None):\n",
        "      return \"A arvore está vazia\"\n",
        "    \n",
        "    return str(self.raiz)\n",
        "  \n",
        "  #Busca do elemento na árvore\n",
        "  def buscar(self, chave):\n",
        "    \n",
        "    if ((self.raiz is None) or (self.raiz.buscar(chave) is None)):\n",
        "      print (\"Chave não encontrada\")\n",
        "      return None\n",
        "    else:\n",
        "      return self.raiz.buscar(chave)\n",
        "  \n",
        "  #Realização da rotação direita\n",
        "  def rotacao_direita(self, no1):\n",
        "    no2 = no1.filho_esquerdo\n",
        "    no2.pai = no1.pai\n",
        "    \n",
        "    if (no2.pai is None):\n",
        "      self.raiz = no2\n",
        "      \n",
        "    else:\n",
        "      if (no2.pai.filho_esquerdo is no1):\n",
        "        no2.pai.filho_esquerdo = no2\n",
        "      else:\n",
        "        no2.pai.filho_direito = no2\n",
        "    \n",
        "    no1.filho_esquerdo = no2.filho_direito\n",
        "    \n",
        "    if (no1.filho_esquerdo is not None):\n",
        "      no1.filho_esquerdo.pai = no1\n",
        "      \n",
        "    no2.filho_direito = no1\n",
        "    no1.pai = no2\n",
        "    \n",
        "    atualizar_altura(no1)\n",
        "    atualizar_altura(no2)\n",
        "  \n",
        "  #Realização da Rotação esquerda\n",
        "  def rotacao_esquerda(self, no1):\n",
        "    \n",
        "    no2 = no1.filho_direito\n",
        "    no2.pai = no1.pai\n",
        "    \n",
        "    \n",
        "    if (no2.pai is None):\n",
        "      self.raiz = no2\n",
        "      \n",
        "    else:\n",
        "      if no2.pai.filho_esquerdo is no1:\n",
        "        no2.pai.filho_esquerdo = no2  \n",
        "      else:\n",
        "        no2.pai.filho_direito = no2\n",
        "        \n",
        "    no1.filho_direito = no2.filho_esquerdo\n",
        "    \n",
        "    if (no1.filho_direito is not None):\n",
        "      no1.filho_direito.pai = no1\n",
        "    \n",
        "    no2.filho_esquerdo = no1\n",
        "    no1.pai = no2\n",
        "    \n",
        "    atualizar_altura(no1)\n",
        "    atualizar_altura(no2)\n",
        "    \n",
        "  #Realização do balanceamento da árvore  \n",
        "  def balanceamento(self, no):\n",
        "    while (no is not None):\n",
        "      atualizar_altura(no)\n",
        "      if (altura(no.filho_esquerdo) >= 2 + altura(no.filho_direito)):\n",
        "        if (altura(no.filho_esquerdo.filho_esquerdo) < altura(no.filho_esquerdo.filho_direito)):\n",
        "          self.rotacao_esquerda(no.filho_esquerdo)\n",
        "        self.rotacao_direita(no)\n",
        "        \n",
        "      elif (altura(no.filho_direito) >= 2 + altura(no.filho_esquerdo)):\n",
        "        if(altura(no.filho_direito.filho_direito) < altura(no.filho_direito.filho_esquerdo)):\n",
        "          self.rotacao_direita(no.filho_direito)\n",
        "        self.rotacao_esquerda(no)\n",
        "      \n",
        "      no = no.pai\n",
        "  \n",
        "  #Responsável pela criação do nó e inserção deste na árvore\n",
        "  def inserir(self, chave):\n",
        "           \n",
        "    no = no_AVL(chave, None)       \n",
        "    if (self.raiz is None):\n",
        "      self.raiz = no\n",
        "    else:\n",
        "      self.raiz.inserir(no)\n",
        "           \n",
        "    self.balanceamento(no)\n",
        "  \n",
        "  #Responsável pela remoção do elemento da árvore\n",
        "  def remover(self, chave):\n",
        "    no = self.buscar(chave)\n",
        "    \n",
        "    if (no is None):\n",
        "      print (\"No a ser removido nao encontrado\")\n",
        "      return None\n",
        "    \n",
        "    if (no is self.raiz):\n",
        "      raiz_ = no_AVL(0, None)\n",
        "      raiz_.filho_esquerdo = self.raiz\n",
        "      self.raiz.pai = raiz_\n",
        "      removido = self.raiz.remover()\n",
        "      self.raiz = raiz_.filho_esquerdo\n",
        "      if (self.raiz is not None):\n",
        "        self.raiz.pai = None\n",
        "        \n",
        "    else:\n",
        "      removido = no.remover()\n",
        "      \n",
        "    self.balanceamento(removido.pai)"
      ],
      "execution_count": 0,
      "outputs": []
    },
    {
      "metadata": {
        "id": "gZVVLkBTqDUG",
        "colab_type": "code",
        "outputId": "9710b78b-8f74-46e8-d6e0-ffd07ea19d34",
        "colab": {
          "base_uri": "https://localhost:8080/",
          "height": 34
        }
      },
      "cell_type": "code",
      "source": [
        "arvore  = Arvore_AVL()\n",
        "print (arvore)"
      ],
      "execution_count": 3,
      "outputs": [
        {
          "output_type": "stream",
          "text": [
            "A arvore está vazia\n"
          ],
          "name": "stdout"
        }
      ]
    },
    {
      "metadata": {
        "id": "CHYTm0b8HRht",
        "colab_type": "code",
        "outputId": "3502cbe6-71a5-4436-8b39-994979435c28",
        "colab": {
          "base_uri": "https://localhost:8080/",
          "height": 52
        }
      },
      "cell_type": "code",
      "source": [
        "print (arvore.buscar(1))"
      ],
      "execution_count": 4,
      "outputs": [
        {
          "output_type": "stream",
          "text": [
            "Chave não encontrada\n",
            "None\n"
          ],
          "name": "stdout"
        }
      ]
    },
    {
      "metadata": {
        "id": "LivTNhAvZMN1",
        "colab_type": "code",
        "outputId": "f041902f-8704-4afb-8d55-f877b708d67c",
        "colab": {
          "base_uri": "https://localhost:8080/",
          "height": 52
        }
      },
      "cell_type": "code",
      "source": [
        "arvore.inserir(1)\n",
        "print (arvore)"
      ],
      "execution_count": 5,
      "outputs": [
        {
          "output_type": "stream",
          "text": [
            "1 \n",
            "/\\\n"
          ],
          "name": "stdout"
        }
      ]
    },
    {
      "metadata": {
        "id": "SfZCNvoIZmrW",
        "colab_type": "code",
        "outputId": "7a6ac1ef-da34-4346-f559-4309c83c7035",
        "colab": {
          "base_uri": "https://localhost:8080/",
          "height": 87
        }
      },
      "cell_type": "code",
      "source": [
        "arvore.inserir(2)\n",
        "print (arvore)"
      ],
      "execution_count": 6,
      "outputs": [
        {
          "output_type": "stream",
          "text": [
            "1  \n",
            "/\\ \n",
            " 2 \n",
            " /\\\n"
          ],
          "name": "stdout"
        }
      ]
    },
    {
      "metadata": {
        "id": "L9BuN264bxEh",
        "colab_type": "code",
        "outputId": "e8d4a5b9-24d5-4ef7-fe82-e832dc0aac09",
        "colab": {
          "base_uri": "https://localhost:8080/",
          "height": 87
        }
      },
      "cell_type": "code",
      "source": [
        "arvore.inserir(3)\n",
        "print (arvore)"
      ],
      "execution_count": 7,
      "outputs": [
        {
          "output_type": "stream",
          "text": [
            "  2  \n",
            " / \\ \n",
            "1  3 \n",
            "/\\ /\\\n"
          ],
          "name": "stdout"
        }
      ]
    },
    {
      "metadata": {
        "id": "mhbXgOUdb1XQ",
        "colab_type": "code",
        "outputId": "16c665b7-2f0d-4cc5-9934-ebef222a1468",
        "colab": {
          "base_uri": "https://localhost:8080/",
          "height": 123
        }
      },
      "cell_type": "code",
      "source": [
        "arvore.inserir(4)\n",
        "print (arvore)"
      ],
      "execution_count": 8,
      "outputs": [
        {
          "output_type": "stream",
          "text": [
            "  2   \n",
            " / \\  \n",
            "1  3  \n",
            "/\\ /\\ \n",
            "    4 \n",
            "    /\\\n"
          ],
          "name": "stdout"
        }
      ]
    },
    {
      "metadata": {
        "id": "rP1tfYVpb10E",
        "colab_type": "code",
        "outputId": "27c9a637-d1f8-4af7-bb45-bb53b764e0a9",
        "colab": {
          "base_uri": "https://localhost:8080/",
          "height": 123
        }
      },
      "cell_type": "code",
      "source": [
        "arvore.inserir(5)\n",
        "print (arvore)"
      ],
      "execution_count": 9,
      "outputs": [
        {
          "output_type": "stream",
          "text": [
            "  2.    \n",
            " /  \\   \n",
            "1    4  \n",
            "/\\  / \\ \n",
            "   3  5 \n",
            "   /\\ /\\\n"
          ],
          "name": "stdout"
        }
      ]
    },
    {
      "metadata": {
        "id": "qkeQqjVNb2Wz",
        "colab_type": "code",
        "outputId": "4054448e-195b-4de5-dbb9-6f81245a7546",
        "colab": {
          "base_uri": "https://localhost:8080/",
          "height": 123
        }
      },
      "cell_type": "code",
      "source": [
        "arvore.inserir(6)\n",
        "print (arvore)"
      ],
      "execution_count": 10,
      "outputs": [
        {
          "output_type": "stream",
          "text": [
            "   .4.   \n",
            "  /   \\  \n",
            "  2   5  \n",
            " / \\  /\\ \n",
            "1  3   6 \n",
            "/\\ /\\  /\\\n"
          ],
          "name": "stdout"
        }
      ]
    },
    {
      "metadata": {
        "id": "x3R27iQXb23F",
        "colab_type": "code",
        "outputId": "a057fd70-49b0-4974-c562-72f6b45b4b38",
        "colab": {
          "base_uri": "https://localhost:8080/",
          "height": 123
        }
      },
      "cell_type": "code",
      "source": [
        "arvore.inserir(7)\n",
        "print (arvore)"
      ],
      "execution_count": 11,
      "outputs": [
        {
          "output_type": "stream",
          "text": [
            "   .4..    \n",
            "  /    \\   \n",
            "  2     6  \n",
            " / \\   / \\ \n",
            "1  3  5  7 \n",
            "/\\ /\\ /\\ /\\\n"
          ],
          "name": "stdout"
        }
      ]
    },
    {
      "metadata": {
        "id": "IweOLiKMb6by",
        "colab_type": "code",
        "outputId": "23fd8a64-7776-4193-b99e-7ecf6d931051",
        "colab": {
          "base_uri": "https://localhost:8080/",
          "height": 158
        }
      },
      "cell_type": "code",
      "source": [
        "arvore.inserir(8)\n",
        "print (arvore)"
      ],
      "execution_count": 12,
      "outputs": [
        {
          "output_type": "stream",
          "text": [
            "   .4..     \n",
            "  /    \\    \n",
            "  2     6   \n",
            " / \\   / \\  \n",
            "1  3  5  7  \n",
            "/\\ /\\ /\\ /\\ \n",
            "          8 \n",
            "          /\\\n"
          ],
          "name": "stdout"
        }
      ]
    },
    {
      "metadata": {
        "id": "l0Y5N6LZb7qk",
        "colab_type": "code",
        "outputId": "17a38997-7972-4bbd-e72d-b8d15e882285",
        "colab": {
          "base_uri": "https://localhost:8080/",
          "height": 158
        }
      },
      "cell_type": "code",
      "source": [
        "arvore.inserir(9)\n",
        "print (arvore)"
      ],
      "execution_count": 13,
      "outputs": [
        {
          "output_type": "stream",
          "text": [
            "   ..4..      \n",
            "  /     \\     \n",
            "  2     6.    \n",
            " / \\   /  \\   \n",
            "1  3  5    8  \n",
            "/\\ /\\ /\\  / \\ \n",
            "         7  9 \n",
            "         /\\ /\\\n"
          ],
          "name": "stdout"
        }
      ]
    },
    {
      "metadata": {
        "id": "uj-kSfVTb8zd",
        "colab_type": "code",
        "outputId": "57c69cb3-de27-4f22-dbae-a5e5e0e7308b",
        "colab": {
          "base_uri": "https://localhost:8080/",
          "height": 158
        }
      },
      "cell_type": "code",
      "source": [
        "arvore.inserir(10)\n",
        "print (arvore)"
      ],
      "execution_count": 14,
      "outputs": [
        {
          "output_type": "stream",
          "text": [
            "   ..4...      \n",
            "  /      \\     \n",
            "  2      .8.   \n",
            " / \\    /   \\  \n",
            "1  3    6   9  \n",
            "/\\ /\\  / \\  /\\ \n",
            "      5  7   10\n",
            "      /\\ /\\  /\\\n"
          ],
          "name": "stdout"
        }
      ]
    },
    {
      "metadata": {
        "id": "vQIcnqx-cC13",
        "colab_type": "code",
        "outputId": "477732dc-971d-41c9-d0d3-c8c481268951",
        "colab": {
          "base_uri": "https://localhost:8080/",
          "height": 158
        }
      },
      "cell_type": "code",
      "source": [
        "arvore.remover(4)\n",
        "print (arvore)"
      ],
      "execution_count": 15,
      "outputs": [
        {
          "output_type": "stream",
          "text": [
            "   .3..      \n",
            "  /    \\     \n",
            " 2     .8.   \n",
            " /\\   /   \\  \n",
            "1     6   9  \n",
            "/\\   / \\  /\\ \n",
            "    5  7   10\n",
            "    /\\ /\\  /\\\n"
          ],
          "name": "stdout"
        }
      ]
    },
    {
      "metadata": {
        "id": "peEgQbySfM9H",
        "colab_type": "code",
        "outputId": "82ee8bba-6959-4718-ffc0-fb433a45f2bd",
        "colab": {
          "base_uri": "https://localhost:8080/",
          "height": 158
        }
      },
      "cell_type": "code",
      "source": [
        "arvore.remover(5)\n",
        "print (arvore)"
      ],
      "execution_count": 16,
      "outputs": [
        {
          "output_type": "stream",
          "text": [
            "   .3.     \n",
            "  /   \\    \n",
            " 2    8.   \n",
            " /\\  /  \\  \n",
            "1   6   9  \n",
            "/\\  /\\  /\\ \n",
            "     7   10\n",
            "     /\\  /\\\n"
          ],
          "name": "stdout"
        }
      ]
    },
    {
      "metadata": {
        "id": "VvlfnpRJg6-B",
        "colab_type": "code",
        "outputId": "9da34d1c-919f-49ea-e512-6b0e001ffee9",
        "colab": {
          "base_uri": "https://localhost:8080/",
          "height": 158
        }
      },
      "cell_type": "code",
      "source": [
        "arvore.remover(8)\n",
        "print (arvore)"
      ],
      "execution_count": 17,
      "outputs": [
        {
          "output_type": "stream",
          "text": [
            "   3.     \n",
            "  /  \\    \n",
            " 2    7   \n",
            " /\\  / \\  \n",
            "1   6  9  \n",
            "/\\  /\\ /\\ \n",
            "        10\n",
            "        /\\\n"
          ],
          "name": "stdout"
        }
      ]
    },
    {
      "metadata": {
        "id": "5fRcHv64Bxbv",
        "colab_type": "code",
        "outputId": "835f8f7c-e8df-4108-c217-c2e55db03dba",
        "colab": {
          "base_uri": "https://localhost:8080/",
          "height": 123
        }
      },
      "cell_type": "code",
      "source": [
        "arvore.remover(10)\n",
        "print(arvore)"
      ],
      "execution_count": 18,
      "outputs": [
        {
          "output_type": "stream",
          "text": [
            "   3.    \n",
            "  /  \\   \n",
            " 2    7  \n",
            " /\\  / \\ \n",
            "1   6  9 \n",
            "/\\  /\\ /\\\n"
          ],
          "name": "stdout"
        }
      ]
    },
    {
      "metadata": {
        "id": "0FH7HxEYB19T",
        "colab_type": "code",
        "outputId": "91856119-0284-41d4-bcd5-9cc2c86d5838",
        "colab": {
          "base_uri": "https://localhost:8080/",
          "height": 158
        }
      },
      "cell_type": "code",
      "source": [
        "arvore.inserir(10)\n",
        "print(arvore)"
      ],
      "execution_count": 19,
      "outputs": [
        {
          "output_type": "stream",
          "text": [
            "   3.     \n",
            "  /  \\    \n",
            " 2    7   \n",
            " /\\  / \\  \n",
            "1   6  9  \n",
            "/\\  /\\ /\\ \n",
            "        10\n",
            "        /\\\n"
          ],
          "name": "stdout"
        }
      ]
    },
    {
      "metadata": {
        "id": "JgCcmfYTVrVM",
        "colab_type": "code",
        "colab": {
          "base_uri": "https://localhost:8080/",
          "height": 158
        },
        "outputId": "ff01f58c-eaf4-4cf2-c08d-ed137e3ff478"
      },
      "cell_type": "code",
      "source": [
        "arvore.remover(2)\n",
        "print (arvore)"
      ],
      "execution_count": 24,
      "outputs": [
        {
          "output_type": "stream",
          "text": [
            "Chave não encontrada\n",
            "No a ser removido nao encontrado\n",
            "   .7.   \n",
            "  /   \\  \n",
            "  3   9  \n",
            " / \\  /\\ \n",
            "1  6   10\n",
            "/\\ /\\  /\\\n"
          ],
          "name": "stdout"
        }
      ]
    },
    {
      "metadata": {
        "id": "lF0pGRFBVlcY",
        "colab_type": "code",
        "colab": {
          "base_uri": "https://localhost:8080/",
          "height": 34
        },
        "outputId": "152f0247-a34c-430f-9224-52f9be471328"
      },
      "cell_type": "code",
      "source": [
        "arvore2 = Arvore_AVL()\n",
        "print (arvore2)"
      ],
      "execution_count": 21,
      "outputs": [
        {
          "output_type": "stream",
          "text": [
            "A arvore está vazia\n"
          ],
          "name": "stdout"
        }
      ]
    },
    {
      "metadata": {
        "id": "OPLW8GTeWbNw",
        "colab_type": "code",
        "colab": {
          "base_uri": "https://localhost:8080/",
          "height": 52
        },
        "outputId": "38eee6e2-b973-4e22-b05f-e78894e9b3e1"
      },
      "cell_type": "code",
      "source": [
        "arvore2.inserir(10)\n",
        "print (arvore2)"
      ],
      "execution_count": 22,
      "outputs": [
        {
          "output_type": "stream",
          "text": [
            "10\n",
            "/\\\n"
          ],
          "name": "stdout"
        }
      ]
    },
    {
      "metadata": {
        "id": "bkD9oCYoWgdt",
        "colab_type": "code",
        "colab": {
          "base_uri": "https://localhost:8080/",
          "height": 87
        },
        "outputId": "4b289a32-4749-4d51-8e70-1bcc07ef04f8"
      },
      "cell_type": "code",
      "source": [
        "arvore2.inserir(9)\n",
        "print (arvore2)"
      ],
      "execution_count": 23,
      "outputs": [
        {
          "output_type": "stream",
          "text": [
            " 10\n",
            " /\\\n",
            "9  \n",
            "/\\ \n"
          ],
          "name": "stdout"
        }
      ]
    },
    {
      "metadata": {
        "id": "4yjJ25M4Wg0o",
        "colab_type": "code",
        "colab": {
          "base_uri": "https://localhost:8080/",
          "height": 87
        },
        "outputId": "65bc6bc3-44bd-4b4e-fbb3-48feedd2adbb"
      },
      "cell_type": "code",
      "source": [
        "arvore2.inserir(8)\n",
        "print (arvore2)"
      ],
      "execution_count": 25,
      "outputs": [
        {
          "output_type": "stream",
          "text": [
            "  9  \n",
            " / \\ \n",
            "8  10\n",
            "/\\ /\\\n"
          ],
          "name": "stdout"
        }
      ]
    },
    {
      "metadata": {
        "id": "FLRyJTjpWhJg",
        "colab_type": "code",
        "colab": {
          "base_uri": "https://localhost:8080/",
          "height": 123
        },
        "outputId": "075d367e-3b1b-450d-d920-e9ac9513cb9e"
      },
      "cell_type": "code",
      "source": [
        "arvore2.inserir(7)\n",
        "print (arvore2)"
      ],
      "execution_count": 26,
      "outputs": [
        {
          "output_type": "stream",
          "text": [
            "   9  \n",
            "  / \\ \n",
            " 8  10\n",
            " /\\ /\\\n",
            "7     \n",
            "/\\    \n"
          ],
          "name": "stdout"
        }
      ]
    },
    {
      "metadata": {
        "id": "astIUlPvWhdL",
        "colab_type": "code",
        "colab": {
          "base_uri": "https://localhost:8080/",
          "height": 123
        },
        "outputId": "d2cb9dd5-d9e6-499e-b7b3-99582bea9d26"
      },
      "cell_type": "code",
      "source": [
        "arvore2.inserir(6)\n",
        "print (arvore2)"
      ],
      "execution_count": 28,
      "outputs": [
        {
          "output_type": "stream",
          "text": [
            "  .7.    \n",
            " /   \\   \n",
            "5     9  \n",
            "/\\   / \\ \n",
            " 6  8  10\n",
            " /\\ /\\ /\\\n"
          ],
          "name": "stdout"
        }
      ]
    },
    {
      "metadata": {
        "id": "WkbCz0uvWiVw",
        "colab_type": "code",
        "colab": {
          "base_uri": "https://localhost:8080/",
          "height": 123
        },
        "outputId": "d0f8f29f-1527-43bd-ed0e-cb1e3181f283"
      },
      "cell_type": "code",
      "source": [
        "arvore2.inserir(5)\n",
        "print (arvore2)"
      ],
      "execution_count": 27,
      "outputs": [
        {
          "output_type": "stream",
          "text": [
            "   .9.  \n",
            "  /   \\ \n",
            "  7   10\n",
            " / \\  /\\\n",
            "5  8    \n",
            "/\\ /\\   \n"
          ],
          "name": "stdout"
        }
      ]
    },
    {
      "metadata": {
        "id": "fR6vUGqdWir7",
        "colab_type": "code",
        "colab": {
          "base_uri": "https://localhost:8080/",
          "height": 123
        },
        "outputId": "77716050-7e8e-4e6d-e7a8-cad83d648242"
      },
      "cell_type": "code",
      "source": [
        "arvore2.inserir(4)\n",
        "print (arvore2)"
      ],
      "execution_count": 29,
      "outputs": [
        {
          "output_type": "stream",
          "text": [
            "   .7..    \n",
            "  /    \\   \n",
            "  5     9  \n",
            " / \\   / \\ \n",
            "4  6  8  10\n",
            "/\\ /\\ /\\ /\\\n"
          ],
          "name": "stdout"
        }
      ]
    },
    {
      "metadata": {
        "id": "FOqQp3RRWjDd",
        "colab_type": "code",
        "colab": {
          "base_uri": "https://localhost:8080/",
          "height": 158
        },
        "outputId": "99190cd2-9ffc-4de5-ddaf-72343c30cc41"
      },
      "cell_type": "code",
      "source": [
        "arvore2.inserir(3)\n",
        "print (arvore2)"
      ],
      "execution_count": 30,
      "outputs": [
        {
          "output_type": "stream",
          "text": [
            "    .7..    \n",
            "   /    \\   \n",
            "   5     9  \n",
            "  / \\   / \\ \n",
            " 4  6  8  10\n",
            " /\\ /\\ /\\ /\\\n",
            "3           \n",
            "/\\          \n"
          ],
          "name": "stdout"
        }
      ]
    },
    {
      "metadata": {
        "id": "zePJGmYkWj64",
        "colab_type": "code",
        "colab": {
          "base_uri": "https://localhost:8080/",
          "height": 158
        },
        "outputId": "e2762c9f-6d0f-42f2-b169-1516c6733157"
      },
      "cell_type": "code",
      "source": [
        "arvore2.inserir(2)\n",
        "print (arvore2)"
      ],
      "execution_count": 31,
      "outputs": [
        {
          "output_type": "stream",
          "text": [
            "     ..7..    \n",
            "    /     \\   \n",
            "   .5.     9  \n",
            "  /   \\   / \\ \n",
            "  3   6  8  10\n",
            " / \\  /\\ /\\ /\\\n",
            "2  4          \n",
            "/\\ /\\         \n"
          ],
          "name": "stdout"
        }
      ]
    },
    {
      "metadata": {
        "id": "YHwcMjliWkNM",
        "colab_type": "code",
        "colab": {
          "base_uri": "https://localhost:8080/",
          "height": 158
        },
        "outputId": "b1cfff7d-5e8f-496a-9c8d-2f8bb28b9b8c"
      },
      "cell_type": "code",
      "source": [
        "arvore2.inserir(1)\n",
        "print (arvore2)"
      ],
      "execution_count": 32,
      "outputs": [
        {
          "output_type": "stream",
          "text": [
            "     ..7...    \n",
            "    /      \\   \n",
            "   3.       9  \n",
            "  /  \\     / \\ \n",
            " 2    5   8  10\n",
            " /\\  / \\  /\\ /\\\n",
            "1   4  6       \n",
            "/\\  /\\ /\\      \n"
          ],
          "name": "stdout"
        }
      ]
    },
    {
      "metadata": {
        "id": "qpBkeGYXWkfH",
        "colab_type": "code",
        "colab": {
          "base_uri": "https://localhost:8080/",
          "height": 194
        },
        "outputId": "32586141-d8a4-43cb-8e73-ee24698764ce"
      },
      "cell_type": "code",
      "source": [
        "arvore2.remover(5)\n",
        "print (arvore2)"
      ],
      "execution_count": 34,
      "outputs": [
        {
          "output_type": "stream",
          "text": [
            "Chave não encontrada\n",
            "No a ser removido nao encontrado\n",
            "    ..7..    \n",
            "   /     \\   \n",
            "   3      9  \n",
            "  / \\    / \\ \n",
            " 2  4   8  10\n",
            " /\\ /\\  /\\ /\\\n",
            "1    6       \n",
            "/\\   /\\      \n"
          ],
          "name": "stdout"
        }
      ]
    }
  ]
}